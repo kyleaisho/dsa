{
 "cells": [
  {
   "cell_type": "code",
   "execution_count": null,
   "metadata": {},
   "outputs": [],
   "source": [
    "from dsa.graphs.graph import Graph\n",
    "from dsa.graphs.visualize import GraphVisualization\n",
    "from dsa.DP.sssp import shortest_path"
   ]
  },
  {
   "cell_type": "code",
   "execution_count": null,
   "metadata": {},
   "outputs": [],
   "source": [
    "edges = [[1,2,1], [1,3,3], [2,4,3], [3,4,1], [2,3,1]]\n",
    "viz = GraphVisualization(True, True)\n",
    "for u, v, w in edges:\n",
    "    viz.add_edge(u, v, weight=w)\n",
    "viz.visualize()"
   ]
  },
  {
   "cell_type": "code",
   "execution_count": null,
   "metadata": {},
   "outputs": [],
   "source": [
    "graph = Graph(edges, True)\n",
    "cost, path = shortest_path(graph, 1, 4)\n",
    "print(f\"Shortest path costs {cost}\")\n",
    "viz.draw_path(path)"
   ]
  }
 ],
 "metadata": {
  "kernelspec": {
   "display_name": "venv",
   "language": "python",
   "name": "python3"
  },
  "language_info": {
   "codemirror_mode": {
    "name": "ipython",
    "version": 3
   },
   "file_extension": ".py",
   "mimetype": "text/x-python",
   "name": "python",
   "nbconvert_exporter": "python",
   "pygments_lexer": "ipython3",
   "version": "3.11.0"
  },
  "orig_nbformat": 4,
  "vscode": {
   "interpreter": {
    "hash": "3e78ab2dd6643fc7f56ee2896e29916f17f747f5ca0ba6f4a2945b9cb956ea7d"
   }
  }
 },
 "nbformat": 4,
 "nbformat_minor": 2
}
