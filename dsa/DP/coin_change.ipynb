{
 "cells": [
  {
   "cell_type": "code",
   "execution_count": 2,
   "metadata": {},
   "outputs": [
    {
     "ename": "TypeError",
     "evalue": "can only concatenate list (not \"int\") to list",
     "output_type": "error",
     "traceback": [
      "\u001b[0;31m---------------------------------------------------------------------------\u001b[0m",
      "\u001b[0;31mTypeError\u001b[0m                                 Traceback (most recent call last)",
      "Cell \u001b[0;32mIn[2], line 3\u001b[0m\n\u001b[1;32m      1\u001b[0m \u001b[39mfrom\u001b[39;00m \u001b[39mdsa\u001b[39;00m\u001b[39m.\u001b[39;00m\u001b[39mDP\u001b[39;00m\u001b[39m.\u001b[39;00m\u001b[39mcoin_change\u001b[39;00m \u001b[39mimport\u001b[39;00m coin_change\n\u001b[0;32m----> 3\u001b[0m coin_change(\u001b[39m11\u001b[39;49m, [\u001b[39m1\u001b[39;49m,\u001b[39m2\u001b[39;49m,\u001b[39m5\u001b[39;49m])\n",
      "File \u001b[0;32m~/dev/algorithms/dsa/dsa/DP/coin_change.py:5\u001b[0m, in \u001b[0;36mcoin_change\u001b[0;34m(target, coins)\u001b[0m\n\u001b[1;32m      1\u001b[0m \u001b[39mdef\u001b[39;00m \u001b[39mcoin_change\u001b[39m(\n\u001b[1;32m      2\u001b[0m     target,\n\u001b[1;32m      3\u001b[0m     coins,\n\u001b[1;32m      4\u001b[0m ):\n\u001b[0;32m----> 5\u001b[0m     memo \u001b[39m=\u001b[39m [[\u001b[39m-\u001b[39;49m\u001b[39m1\u001b[39;49m] \u001b[39m*\u001b[39;49m (coins \u001b[39m+\u001b[39;49m \u001b[39m1\u001b[39;49m) \u001b[39mfor\u001b[39;49;00m _ \u001b[39min\u001b[39;49;00m \u001b[39mrange\u001b[39;49m(target \u001b[39m+\u001b[39;49m \u001b[39m1\u001b[39;49m)]\n\u001b[1;32m      6\u001b[0m     \u001b[39mprint\u001b[39m(memo)\n",
      "File \u001b[0;32m~/dev/algorithms/dsa/dsa/DP/coin_change.py:5\u001b[0m, in \u001b[0;36m<listcomp>\u001b[0;34m(.0)\u001b[0m\n\u001b[1;32m      1\u001b[0m \u001b[39mdef\u001b[39;00m \u001b[39mcoin_change\u001b[39m(\n\u001b[1;32m      2\u001b[0m     target,\n\u001b[1;32m      3\u001b[0m     coins,\n\u001b[1;32m      4\u001b[0m ):\n\u001b[0;32m----> 5\u001b[0m     memo \u001b[39m=\u001b[39m [[\u001b[39m-\u001b[39m\u001b[39m1\u001b[39m] \u001b[39m*\u001b[39m (coins \u001b[39m+\u001b[39;49m \u001b[39m1\u001b[39;49m) \u001b[39mfor\u001b[39;00m _ \u001b[39min\u001b[39;00m \u001b[39mrange\u001b[39m(target \u001b[39m+\u001b[39m \u001b[39m1\u001b[39m)]\n\u001b[1;32m      6\u001b[0m     \u001b[39mprint\u001b[39m(memo)\n",
      "\u001b[0;31mTypeError\u001b[0m: can only concatenate list (not \"int\") to list"
     ]
    }
   ],
   "source": [
    "from dsa.DP.coin_change import coin_change\n",
    "\n",
    "coin_change(11, [1,2,5])"
   ]
  }
 ],
 "metadata": {
  "kernelspec": {
   "display_name": "venv",
   "language": "python",
   "name": "python3"
  },
  "language_info": {
   "codemirror_mode": {
    "name": "ipython",
    "version": 3
   },
   "file_extension": ".py",
   "mimetype": "text/x-python",
   "name": "python",
   "nbconvert_exporter": "python",
   "pygments_lexer": "ipython3",
   "version": "3.11.0"
  },
  "orig_nbformat": 4
 },
 "nbformat": 4,
 "nbformat_minor": 2
}
