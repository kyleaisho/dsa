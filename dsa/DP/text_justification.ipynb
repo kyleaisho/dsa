{
 "cells": [
  {
   "cell_type": "code",
   "execution_count": 18,
   "metadata": {},
   "outputs": [
    {
     "name": "stdout",
     "output_type": "stream",
     "text": [
      "['Kyle Aisho']\n"
     ]
    }
   ],
   "source": [
    "from text_justification import pad_lines\n",
    "\n",
    "line = [\"Kyle\", \"Aisho\"]\n",
    "padded = pad_lines([line], 10)\n",
    "print(padded)"
   ]
  },
  {
   "cell_type": "code",
   "execution_count": 19,
   "metadata": {},
   "outputs": [
    {
     "name": "stdout",
     "output_type": "stream",
     "text": [
      "['to    code']\n"
     ]
    },
    {
     "data": {
      "text/plain": [
       "10"
      ]
     },
     "execution_count": 19,
     "metadata": {},
     "output_type": "execute_result"
    }
   ],
   "source": [
    "from text_justification import pad_lines\n",
    "\n",
    "\n",
    "padded_2 = pad_lines([[\"to\", \"code\"]], 10)\n",
    "print(padded_2)\n",
    "len(padded_2[0])"
   ]
  },
  {
   "cell_type": "code",
   "execution_count": 45,
   "metadata": {},
   "outputs": [
    {
     "data": {
      "text/plain": [
       "['Xander    ', 'boy  likes', 'to    code']"
      ]
     },
     "execution_count": 45,
     "metadata": {},
     "output_type": "execute_result"
    }
   ],
   "source": [
    "from text_justification import justify_recursive, generate_matrix, calculate_splits\n",
    "\n",
    "words = [\"Xander\", \"boy\", \"likes\", \"to\", \"code\"]\n",
    "matrix = generate_matrix(words, 10)\n",
    "splits, cost = calculate_splits(matrix)\n",
    "justify_recursive(words, 10)\n"
   ]
  }
 ],
 "metadata": {
  "kernelspec": {
   "display_name": "venv",
   "language": "python",
   "name": "python3"
  },
  "language_info": {
   "codemirror_mode": {
    "name": "ipython",
    "version": 3
   },
   "file_extension": ".py",
   "mimetype": "text/x-python",
   "name": "python",
   "nbconvert_exporter": "python",
   "pygments_lexer": "ipython3",
   "version": "3.11.0"
  },
  "orig_nbformat": 4
 },
 "nbformat": 4,
 "nbformat_minor": 2
}
